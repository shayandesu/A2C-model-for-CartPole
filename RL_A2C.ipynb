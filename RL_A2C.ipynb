{
  "cells": [
    {
      "cell_type": "markdown",
      "metadata": {
        "id": "yroSYUnGNfdh"
      },
      "source": [
        "# Deep Reinforcement Learning"
      ]
    },
    {
      "cell_type": "markdown",
      "metadata": {
        "id": "Lvs0fyVcTssp"
      },
      "source": [
        " Reinforcement Learning (RL) is an approach wherein an agent learns to make sequential decisions by interacting with an environment. The objective is for the agent to maximize the cumulative reward it receives over time.\n",
        " The agent goes through this process by repeatedly evaluating the consequences of its actions, trying to select actions that lead to better outcomes.\n",
        "\n",
        "To do this, we will use Gym, a platform for developing and comparing reinforcement learning algorithms. Gym provides an interface for interacting with different environments, it accepts actions from agents and plays them out in an environment, providing rewards.\n"
      ]
    },
    {
      "cell_type": "markdown",
      "metadata": {
        "id": "14HoqbdQNdoi"
      },
      "source": [
        "## Environment\n",
        "\n",
        "We will be using `CartPole` environment from gym's library for this assignment.  In this environment, a pole is attached by an un-actuated joint to a cart, which moves along a frictionless track. The pendulum is placed upright on the cart and the goal is to balance the pole by applying forces in the left and right direction on the cart.\n",
        "\n",
        "You can use the code below to run an instance of a random agent in this environment and see the results."
      ]
    },
    {
      "cell_type": "code",
      "execution_count": 1,
      "metadata": {
        "id": "wDUl4VKUTI6a"
      },
      "outputs": [],
      "source": [
        "from IPython.display import HTML\n",
        "from base64 import b64encode\n",
        "\n",
        "def show_video(path):\n",
        "    mp4 = open(path, 'rb').read()\n",
        "    data_url = \"data:video/mp4;base64,\" + b64encode(mp4).decode()\n",
        "    return HTML(\"\"\"\n",
        "    <video width=400 controls>\n",
        "          <source src=\"%s\" type=\"video/mp4\">\n",
        "    </video>\n",
        "    \"\"\" % data_url)"
      ]
    },
    {
      "cell_type": "code",
      "execution_count": 2,
      "metadata": {
        "id": "OgJvrYtuOJ6i",
        "colab": {
          "base_uri": "https://localhost:8080/"
        },
        "outputId": "9c3927ac-3e7b-474a-8564-3882901b867e"
      },
      "outputs": [
        {
          "output_type": "stream",
          "name": "stdout",
          "text": [
            "\u001b[2K     \u001b[90m━━━━━━━━━━━━━━━━━━━━━━━━━━━━━━━━━━━━━━━━\u001b[0m \u001b[32m1.6/1.6 MB\u001b[0m \u001b[31m11.7 MB/s\u001b[0m eta \u001b[36m0:00:00\u001b[0m\n",
            "\u001b[2K     \u001b[90m━━━━━━━━━━━━━━━━━━━━━━━━━━━━━━━━━━━━━━━━\u001b[0m \u001b[32m434.7/434.7 kB\u001b[0m \u001b[31m16.8 MB/s\u001b[0m eta \u001b[36m0:00:00\u001b[0m\n",
            "\u001b[?25h  Installing build dependencies ... \u001b[?25l\u001b[?25hdone\n",
            "  Getting requirements to build wheel ... \u001b[?25l\u001b[?25hdone\n",
            "  Preparing metadata (pyproject.toml) ... \u001b[?25l\u001b[?25hdone\n",
            "  Building wheel for AutoROM.accept-rom-license (pyproject.toml) ... \u001b[?25l\u001b[?25hdone\n"
          ]
        }
      ],
      "source": [
        "!pip install gym[atari,accept-rom-license] -qq\n",
        "!pip install imageio -qq"
      ]
    },
    {
      "cell_type": "code",
      "execution_count": 3,
      "metadata": {
        "id": "FAaKrhvfKe25"
      },
      "outputs": [],
      "source": [
        "import cv2\n",
        "import gym\n",
        "import imageio\n",
        "import numpy as np\n",
        "from gym import spaces"
      ]
    },
    {
      "cell_type": "markdown",
      "metadata": {
        "id": "mH0xWnEWToMa"
      },
      "source": [
        "We use `gym.make()` to make an instance of a certain environemnt. We can then use `.step()` method which accepts an action as input and performs it. Before that we reset the environment to its initial state by using `.reset()` method."
      ]
    },
    {
      "cell_type": "code",
      "execution_count": 4,
      "metadata": {
        "id": "EqHgCKFJKPQ2",
        "colab": {
          "base_uri": "https://localhost:8080/"
        },
        "outputId": "9a86707f-2041-4077-f000-9b4dbaec38a4"
      },
      "outputs": [
        {
          "output_type": "stream",
          "name": "stderr",
          "text": [
            "/usr/local/lib/python3.10/dist-packages/ipykernel/ipkernel.py:283: DeprecationWarning: `should_run_async` will not call `transform_cell` automatically in the future. Please pass the result to `transformed_cell` argument and any exception that happen during thetransform in `preprocessing_exc_tuple` in IPython 7.17 and above.\n",
            "  and should_run_async(code)\n",
            "/usr/local/lib/python3.10/dist-packages/gym/core.py:317: DeprecationWarning: \u001b[33mWARN: Initializing wrapper in old step API which returns one bool instead of two. It is recommended to set `new_step_api=True` to use new step API. This will be the default behaviour in future.\u001b[0m\n",
            "  deprecation(\n",
            "/usr/local/lib/python3.10/dist-packages/gym/wrappers/step_api_compatibility.py:39: DeprecationWarning: \u001b[33mWARN: Initializing environment in old step API which returns one bool instead of two. It is recommended to set `new_step_api=True` to use new step API. This will be the default behaviour in future.\u001b[0m\n",
            "  deprecation(\n",
            "/usr/local/lib/python3.10/dist-packages/gym/utils/passive_env_checker.py:241: DeprecationWarning: `np.bool8` is a deprecated alias for `np.bool_`.  (Deprecated NumPy 1.24)\n",
            "  if not isinstance(terminated, (bool, np.bool8)):\n",
            "WARNING:imageio_ffmpeg:IMAGEIO FFMPEG_WRITER WARNING: input image is not divisible by macro_block_size=16, resizing from (600, 400) to (608, 400) to ensure video compatibility with most codecs and players. To prevent resizing, make your input image divisible by the macro_block_size or set the macro_block_size to 1 (risking incompatibility).\n"
          ]
        }
      ],
      "source": [
        "env_name = 'CartPole-v1'\n",
        "\n",
        "# Create an instance of the environment\n",
        "env = gym.make(\"CartPole-v1\", render_mode=\"rgb_array\")\n",
        "\n",
        "env.reset()\n",
        "\n",
        "frames = []\n",
        "\n",
        "for _ in range(500):\n",
        "    action = np.random.randint(0, env.action_space.n)\n",
        "\n",
        "    obs, reward, done, _ = env.step(action)\n",
        "\n",
        "    # render this frame and add to the list of frames\n",
        "\n",
        "    frames.append(env.render()[0])\n",
        "\n",
        "    if done:\n",
        "        env.reset()\n",
        "\n",
        "env.close()\n",
        "imageio.mimsave('./cartpole.mp4', frames, fps=25)"
      ]
    },
    {
      "cell_type": "code",
      "source": [
        "print(env.reset())\n",
        "print(env.step(1))\n",
        "print(env.observation_space.shape)\n"
      ],
      "metadata": {
        "colab": {
          "base_uri": "https://localhost:8080/"
        },
        "id": "mKBtb1tk_s7W",
        "outputId": "a75679c6-0148-4c86-ae31-5677f7443629"
      },
      "execution_count": 36,
      "outputs": [
        {
          "output_type": "stream",
          "name": "stdout",
          "text": [
            "[ 0.0444686  -0.04569073  0.02905543 -0.04964752]\n",
            "(array([ 0.04355479,  0.1490028 ,  0.02806247, -0.33302346], dtype=float32), 1.0, False, {})\n",
            "(4,)\n"
          ]
        }
      ]
    },
    {
      "cell_type": "code",
      "execution_count": 5,
      "metadata": {
        "colab": {
          "base_uri": "https://localhost:8080/",
          "height": 285
        },
        "id": "LTW3cWeXTbAB",
        "outputId": "93bbeaa8-8ddd-483d-ed19-785880a11479"
      },
      "outputs": [
        {
          "output_type": "execute_result",
          "data": {
            "text/plain": [
              "<IPython.core.display.HTML object>"
            ],
            "text/html": [
              "\n",
              "    <video width=400 controls>\n",
              "          <source src=\"data:video/mp4;base64,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\" type=\"video/mp4\">\n",
              "    </video>\n",
              "    "
            ]
          },
          "metadata": {},
          "execution_count": 5
        }
      ],
      "source": [
        "show_video('./cartpole.mp4')"
      ]
    },
    {
      "cell_type": "markdown",
      "metadata": {
        "id": "qRqBG6pnZE36"
      },
      "source": [
        "As you can see, the cart fails to keep the balance of the pole. In the next section we will train an agent to learn how to perform this task."
      ]
    },
    {
      "cell_type": "markdown",
      "metadata": {
        "id": "xXVxCrWQqg-8"
      },
      "source": [
        "## Algorithm\n",
        "We will be using A2C algorithm.\n",
        "\n",
        "Advantage Actor-Critic (A2C) is a reinforcement learning algorithm.\n",
        "It consists of an actor (which predicts the best action based on the current state) and a critic (which estimates the state's value function to measure expected future rewards).\n",
        "\n",
        "We will implement this together step by step.\n",
        "\n",
        "\n"
      ]
    },
    {
      "cell_type": "code",
      "execution_count": 6,
      "metadata": {
        "id": "7DkxgycMx2gy"
      },
      "outputs": [],
      "source": [
        "import torch\n",
        "import torch.nn as nn\n",
        "import torch.optim as optim\n",
        "import torch.nn.functional as F\n",
        "from torch.distributions.categorical import Categorical\n",
        "\n",
        "import numpy as np\n",
        "import gym\n",
        "from collections import deque\n",
        "from tqdm import tqdm"
      ]
    },
    {
      "cell_type": "markdown",
      "metadata": {
        "id": "SDk5mnV8o4r9"
      },
      "source": [
        "## Neural Network\n",
        "\n",
        "Here we design a simple feed forward model to embed the observation from the environment to a hidden layer. We then use two fully connected layers on top of the hidden layer, to predict the next action and estimate the value of current state. This acts as both actor, and critic.\n",
        "\n",
        "You need to implement the convolutional neural network.\n"
      ]
    },
    {
      "cell_type": "code",
      "execution_count": 7,
      "metadata": {
        "id": "T_xktF4MxvFT",
        "colab": {
          "base_uri": "https://localhost:8080/"
        },
        "outputId": "c92c69a8-b262-451c-9be8-4893032ec869"
      },
      "outputs": [
        {
          "output_type": "stream",
          "name": "stderr",
          "text": [
            "/usr/local/lib/python3.10/dist-packages/ipykernel/ipkernel.py:283: DeprecationWarning: `should_run_async` will not call `transform_cell` automatically in the future. Please pass the result to `transformed_cell` argument and any exception that happen during thetransform in `preprocessing_exc_tuple` in IPython 7.17 and above.\n",
            "  and should_run_async(code)\n"
          ]
        }
      ],
      "source": [
        "class ActorCritic(nn.Module):\n",
        "    def __init__(self, num_input, hidden_size, num_actions):\n",
        "        super(ActorCritic, self).__init__()\n",
        "        # TODO: define your model here\n",
        "        self.fc1 = nn.Linear(num_input, hidden_size)\n",
        "        self.actor = nn.Linear(hidden_size, num_actions)\n",
        "        self.critic = nn.Linear(hidden_size, 1)\n",
        "\n",
        "    def forward(self, x):\n",
        "        x = torch.relu(self.fc1(x))\n",
        "        action_probs = torch.softmax(self.actor(x), dim=-1)\n",
        "        value = self.critic(x)\n",
        "        return action_probs, value\n"
      ]
    },
    {
      "cell_type": "markdown",
      "metadata": {
        "id": "JmFYH_ls08da"
      },
      "source": [
        "## A2C"
      ]
    },
    {
      "cell_type": "markdown",
      "metadata": {
        "id": "8mq8eMC3Z4gM"
      },
      "source": [
        "The A2C algorithm aims to jointly train both the actor and the critic to improve the policy. It does this by updating the parameters\n",
        "of the actor to increase the likelihood of good actions and updating the parameters\n",
        "of the critic to better estimate the value function.\n",
        "\n",
        "In each iteration A2C plays the until it ends. During this time it records log probabality of actions, rewards, and predicted values in each step. These values will be used to update the model at the end of this trajectory.\n",
        "\n",
        "The actor is updated using the objective below:\n",
        "\n",
        "$$ L_{\\text{actor}} = -\\log \\pi(a|s;\\theta) \\times A(s, a) $$\n",
        "Where advantage is calculated as:\n",
        "$$A(s, a) = Q(s, a) - V(s) $$\n",
        "\n",
        "Namely the function $Q(s,a)$ is the estimated value of taking action\n",
        "$a$\n",
        " in state\n",
        "$s$.\n",
        "$V(s)$ is the predicted value of our critic.\n",
        "\n",
        "This loss function aims to improve the probability of playing actions that result in higher rewards.\n",
        "\n",
        "As for the critic the loss function is defined as a simple mean square loss between actual value of an state and the predicted one:\n",
        "\n",
        "$$ L_{\\text{critic}} = \\frac{1}{2} ( R - V(s))^2 $$"
      ]
    },
    {
      "cell_type": "code",
      "execution_count": 55,
      "metadata": {
        "id": "A3YES4iP1DYb",
        "colab": {
          "base_uri": "https://localhost:8080/"
        },
        "outputId": "3f5f6487-4cb4-498f-cefe-a918f09a9bfd"
      },
      "outputs": [
        {
          "output_type": "stream",
          "name": "stderr",
          "text": [
            "/usr/local/lib/python3.10/dist-packages/ipykernel/ipkernel.py:283: DeprecationWarning: `should_run_async` will not call `transform_cell` automatically in the future. Please pass the result to `transformed_cell` argument and any exception that happen during thetransform in `preprocessing_exc_tuple` in IPython 7.17 and above.\n",
            "  and should_run_async(code)\n"
          ]
        }
      ],
      "source": [
        "class A2CAgent:\n",
        "    def __init__(self, env, num_episodes=1000, max_steps=500, gamma=0.99, lr=1e-3, hidden_size=256):\n",
        "        self.env = env\n",
        "        self.num_episodes = int(num_episodes)\n",
        "        self.max_steps = max_steps\n",
        "        self.gamma = gamma\n",
        "        self.lr = lr\n",
        "        self.device = torch.device(\"cuda\" if torch.cuda.is_available() else \"cpu\")\n",
        "\n",
        "\n",
        "        # self.input_dim = self.env.observation_space.shape[0]\n",
        "        # self.num_actions = self.env.action_space.n\n",
        "\n",
        "        # define your actor critic network, its optimzer and the loss function\n",
        "        self.policy_net = ActorCritic(self.env.observation_space.shape[0], hidden_size, self.env.action_space.n).to(self.device)\n",
        "        self.optimizer = optim.Adam(self.policy_net.parameters(), lr=self.lr)\n",
        "        self.critic_loss = nn.MSELoss()\n",
        "\n",
        "    def choose_action(self, state):\n",
        "        # TODO\n",
        "        # choose an action by sampling from the policy distribution\n",
        "        state = torch.tensor(state, dtype=torch.float).to(self.device)\n",
        "        action_probs, _ = self.policy_net(state)\n",
        "        action = torch.multinomial(action_probs, 1).item()\n",
        "        return action, torch.log(action_probs[action])\n",
        "        # return action\n",
        "\n",
        "    def compute_returns(self, rewards):\n",
        "        # TODO\n",
        "        # calculate the discounted rewards used in the training process\n",
        "        new_rewards = []\n",
        "        R = 0\n",
        "        for r in reversed(rewards):\n",
        "            R = r + self.gamma * R\n",
        "            new_rewards.insert(0, R)\n",
        "        return new_rewards\n",
        "\n",
        "    def train(self):\n",
        "        episode_rewards = np.array([])\n",
        "        with tqdm(range(self.num_episodes)) as pbar:\n",
        "            for episode in pbar:\n",
        "                # TODO\n",
        "                # Implement the training loop\n",
        "                state = self.env.reset()\n",
        "                episode_reward = 0\n",
        "                log_probs = []\n",
        "                values = []\n",
        "                rewards = []\n",
        "\n",
        "                for step in range(self.max_steps):\n",
        "                    # TODO\n",
        "                    # first you need to gather log probabilities, state values and rewards from a trajectory\n",
        "                    # update the 'episode_reward'\n",
        "                    action, log_prob = self.choose_action(state)\n",
        "                    next_state, reward, done, _ = self.env.step(action)\n",
        "\n",
        "                    _, value = self.policy_net(torch.tensor(state, dtype=torch.float).to(self.device))\n",
        "\n",
        "                    log_probs.append(log_prob)\n",
        "                    values.append(value)\n",
        "                    rewards.append(reward)\n",
        "\n",
        "                    episode_reward += reward\n",
        "                    state = next_state\n",
        "\n",
        "                    if done:\n",
        "                        break\n",
        "\n",
        "\n",
        "\n",
        "                episode_rewards = np.append(episode_rewards, episode_reward)\n",
        "\n",
        "                # if not rewards:\n",
        "                #     continue\n",
        "\n",
        "                # calculate the discounted rewards\n",
        "                returns = self.compute_returns(rewards)\n",
        "                returns = torch.tensor(returns).to(self.device)\n",
        "\n",
        "\n",
        "                log_probs = torch.stack(log_probs)\n",
        "                values = torch.stack(values).squeeze()\n",
        "\n",
        "                # print(values.size())\n",
        "\n",
        "                # calculate advantage\n",
        "                advantage = returns - values\n",
        "\n",
        "                # compute actor and critic losses\n",
        "                actor_loss = -(log_probs * advantage.detach()).mean()\n",
        "                critic_loss = self.critic_loss(values, returns)\n",
        "                loss = actor_loss + critic_loss\n",
        "\n",
        "                # TODO\n",
        "                # update the model after performing the backward pass\n",
        "                self.optimizer.zero_grad()\n",
        "                loss.backward()\n",
        "                self.optimizer.step()\n",
        "\n",
        "                pbar.set_description(f\"Episode {episode}, Reward: {np.mean(episode_reward)}\")\n",
        "\n",
        "        self.env.close()\n",
        "        return episode_rewards"
      ]
    },
    {
      "cell_type": "markdown",
      "metadata": {
        "id": "Hb1bgYVWeCdD"
      },
      "source": [
        "Define the model and set hyperparameters."
      ]
    },
    {
      "cell_type": "code",
      "execution_count": 56,
      "metadata": {
        "id": "ngtRu4PH4I0L",
        "colab": {
          "base_uri": "https://localhost:8080/"
        },
        "outputId": "36eb2e79-bbc8-4049-b85d-d01605869ace"
      },
      "outputs": [
        {
          "output_type": "stream",
          "name": "stderr",
          "text": [
            "/usr/local/lib/python3.10/dist-packages/gym/core.py:317: DeprecationWarning: \u001b[33mWARN: Initializing wrapper in old step API which returns one bool instead of two. It is recommended to set `new_step_api=True` to use new step API. This will be the default behaviour in future.\u001b[0m\n",
            "  deprecation(\n",
            "/usr/local/lib/python3.10/dist-packages/gym/wrappers/step_api_compatibility.py:39: DeprecationWarning: \u001b[33mWARN: Initializing environment in old step API which returns one bool instead of two. It is recommended to set `new_step_api=True` to use new step API. This will be the default behaviour in future.\u001b[0m\n",
            "  deprecation(\n"
          ]
        }
      ],
      "source": [
        "env = gym.make('CartPole-v1')\n",
        "num_episodes = 2000\n",
        "max_steps = 500\n",
        "lr = 1e-3\n",
        "hidden_size = 256\n",
        "\n",
        "a2c_model = A2CAgent(env, num_episodes=num_episodes)"
      ]
    },
    {
      "cell_type": "markdown",
      "metadata": {
        "id": "H0SN8RoJeFZy"
      },
      "source": [
        "Train the model."
      ]
    },
    {
      "cell_type": "code",
      "execution_count": 57,
      "metadata": {
        "id": "7s6WdYRz4V4z",
        "colab": {
          "base_uri": "https://localhost:8080/"
        },
        "outputId": "887cb474-1cb7-491b-8d2b-b54803804c1e"
      },
      "outputs": [
        {
          "output_type": "stream",
          "name": "stderr",
          "text": [
            "  0%|          | 0/2000 [00:00<?, ?it/s]/usr/local/lib/python3.10/dist-packages/gym/utils/passive_env_checker.py:241: DeprecationWarning: `np.bool8` is a deprecated alias for `np.bool_`.  (Deprecated NumPy 1.24)\n",
            "  if not isinstance(terminated, (bool, np.bool8)):\n",
            "Episode 1999, Reward: 420.0: 100%|██████████| 2000/2000 [16:08<00:00,  2.06it/s]\n"
          ]
        }
      ],
      "source": [
        "rewards = a2c_model.train()"
      ]
    },
    {
      "cell_type": "markdown",
      "metadata": {
        "id": "CMViOQSeyvqx"
      },
      "source": [
        "## Evaluation"
      ]
    },
    {
      "cell_type": "markdown",
      "metadata": {
        "id": "7GmFp1D9eG1S"
      },
      "source": [
        "Use the `choose_action` method of the trained agent to evaluate its performance."
      ]
    },
    {
      "cell_type": "code",
      "execution_count": 58,
      "metadata": {
        "colab": {
          "base_uri": "https://localhost:8080/"
        },
        "id": "i75PdIqbI0PB",
        "outputId": "25690a0c-b0bb-434e-9bdd-c51a8e7871d1"
      },
      "outputs": [
        {
          "output_type": "stream",
          "name": "stdout",
          "text": [
            "Episode Reward: 452.0\n",
            "Episode Reward: 342.0\n",
            "Episode Reward: 453.0\n",
            "Episode Reward: 421.0\n",
            "Episode Reward: 370.0\n",
            "Episode Reward: 305.0\n",
            "Episode Reward: 500.0\n",
            "Episode Reward: 494.0\n",
            "Episode Reward: 331.0\n"
          ]
        },
        {
          "output_type": "stream",
          "name": "stderr",
          "text": [
            "WARNING:imageio_ffmpeg:IMAGEIO FFMPEG_WRITER WARNING: input image is not divisible by macro_block_size=16, resizing from (600, 400) to (608, 400) to ensure video compatibility with most codecs and players. To prevent resizing, make your input image divisible by the macro_block_size or set the macro_block_size to 1 (risking incompatibility).\n"
          ]
        },
        {
          "output_type": "stream",
          "name": "stdout",
          "text": [
            "Episode Reward: 457.0\n",
            "Average Reward over 10 episodes: 412.5\n"
          ]
        }
      ],
      "source": [
        "env = gym.make(env_name, render_mode='rgb_array')\n",
        "\n",
        "model = a2c_model\n",
        "\n",
        "num_episodes = 10\n",
        "device = torch.device(\"cuda\" if torch.cuda.is_available() else \"cpu\")\n",
        "\n",
        "# complete the loop and gather the episode reward of each episode as well the frames of the first episode\n",
        "frames = []\n",
        "episode_rewards = []\n",
        "\n",
        "for i in range(num_episodes):\n",
        "    state = env.reset()\n",
        "    episode_reward = 0\n",
        "\n",
        "    # TODO\n",
        "    # Implement the evaluation loop\n",
        "    env.reset()\n",
        "    for step in range(500):\n",
        "      action_probs, _ = model.policy_net.forward(torch.tensor(state).to(device))\n",
        "      action = torch.argmax(action_probs).cpu().numpy()\n",
        "      # print(action)\n",
        "      new_state, reward, done , _ = env.step(action)\n",
        "      # print(new_state)\n",
        "      episode_reward += reward\n",
        "      state = new_state\n",
        "      if step == 0:\n",
        "        frames.append(env.render()[0])\n",
        "      if done:\n",
        "        break\n",
        "\n",
        "    episode_rewards.append(episode_reward)\n",
        "    print(f\"Episode Reward: {episode_reward}\")\n",
        "env.close()\n",
        "\n",
        "episode_rewards = np.array(episode_rewards)\n",
        "print(f\"Average Reward over {num_episodes} episodes: {np.mean(episode_rewards)}\")\n",
        "imageio.mimsave('./test.mp4', frames, fps=25)"
      ]
    },
    {
      "cell_type": "code",
      "execution_count": 59,
      "metadata": {
        "colab": {
          "base_uri": "https://localhost:8080/",
          "height": 285
        },
        "id": "85Uys0DYLmwB",
        "outputId": "c62a2657-8377-4c7f-c438-5953b9512de3"
      },
      "outputs": [
        {
          "output_type": "execute_result",
          "data": {
            "text/plain": [
              "<IPython.core.display.HTML object>"
            ],
            "text/html": [
              "\n",
              "    <video width=400 controls>\n",
              "          <source src=\"data:video/mp4;base64,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\" type=\"video/mp4\">\n",
              "    </video>\n",
              "    "
            ]
          },
          "metadata": {},
          "execution_count": 59
        }
      ],
      "source": [
        "show_video('./test.mp4')"
      ]
    },
    {
      "cell_type": "code",
      "source": [],
      "metadata": {
        "id": "lo4tW3ZmEzBM"
      },
      "execution_count": null,
      "outputs": []
    }
  ],
  "metadata": {
    "accelerator": "GPU",
    "colab": {
      "gpuType": "T4",
      "provenance": []
    },
    "kernelspec": {
      "display_name": "Python 3 (ipykernel)",
      "language": "python",
      "name": "python3"
    },
    "language_info": {
      "codemirror_mode": {
        "name": "ipython",
        "version": 3
      },
      "file_extension": ".py",
      "mimetype": "text/x-python",
      "name": "python",
      "nbconvert_exporter": "python",
      "pygments_lexer": "ipython3",
      "version": "3.12.2"
    }
  },
  "nbformat": 4,
  "nbformat_minor": 0
}